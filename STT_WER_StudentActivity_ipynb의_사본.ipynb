{
  "nbformat": 4,
  "nbformat_minor": 0,
  "metadata": {
    "colab": {
      "provenance": [],
      "include_colab_link": true
    },
    "kernelspec": {
      "name": "python3",
      "display_name": "Python 3"
    },
    "language_info": {
      "name": "python"
    }
  },
  "cells": [
    {
      "cell_type": "markdown",
      "metadata": {
        "id": "view-in-github",
        "colab_type": "text"
      },
      "source": [
        "<a href=\"https://colab.research.google.com/github/yermine/NLP_2023/blob/main/STT_WER_StudentActivity_ipynb%EC%9D%98_%EC%82%AC%EB%B3%B8.ipynb\" target=\"_parent\"><img src=\"https://colab.research.google.com/assets/colab-badge.svg\" alt=\"Open In Colab\"/></a>"
      ]
    },
    {
      "cell_type": "markdown",
      "source": [
        "## 🐹 🐾  <font color = 'red'>**SST (Speech-to-Text)**\n",
        "\n",
        "- 학생이 발화한 12개의 문장이 text로 변환됩니다."
      ],
      "metadata": {
        "id": "lZSCtbAgHwHX"
      }
    },
    {
      "cell_type": "code",
      "execution_count": 2,
      "metadata": {
        "id": "tCu_W_eg-n4N",
        "outputId": "0d11f943-e006-4a4c-cf81-c04fb971ce7a",
        "colab": {
          "base_uri": "https://localhost:8080/",
          "height": 106
        }
      },
      "outputs": [
        {
          "output_type": "error",
          "ename": "SyntaxError",
          "evalue": "invalid syntax (<ipython-input-2-1c5bb6fbacad>, line 16)",
          "traceback": [
            "\u001b[0;36m  File \u001b[0;32m\"<ipython-input-2-1c5bb6fbacad>\"\u001b[0;36m, line \u001b[0;32m16\u001b[0m\n\u001b[0;31m    def count_words(text):/content/sample_data/comma2/speaker10_comma_rep1_1sthalf (1) (1).wav\u001b[0m\n\u001b[0m                          ^\u001b[0m\n\u001b[0;31mSyntaxError\u001b[0m\u001b[0;31m:\u001b[0m invalid syntax\n"
          ]
        }
      ],
      "source": [
        "!pip install SpeechRecognition\n",
        "\n",
        "import os\n",
        "import speech_recognition as sr\n",
        "\n",
        "def convert_speech_to_text(audio_file):\n",
        "    recognizer = sr.Recognizer()\n",
        "\n",
        "    with sr.AudioFile(audio_file) as source:\n",
        "        audio = recognizer.record(source)  # Load the audio file\n",
        "\n",
        "    text = recognizer.recognize_google(audio)  # Use Google Speech Recognition API\n",
        "\n",
        "    return text\n",
        "\n",
        "def count_words(text):/content/sample_data/comma2/speaker10_comma_rep1_1sthalf (1) (1).wav\n",
        "    words = text.split()  # Split the text into words\n",
        "    return len(words)    # Return the count of words\n",
        "\n",
        "# Path to the folder containing the WAV files\n",
        "folder_path = \"/content/sample_data/comma/speaker.wav\"   #💋폴더 경로를 \" \"안에 입력하세요.\n",
        "\n",
        "# Iterate over the files in the folder\n",
        "for filename in os.listdir(folder_path):\n",
        "    if filename.endswith(\".wav\"):\n",
        "        audio_file = os.path.join(folder_path, filename)\n",
        "\n",
        "        converted_text = convert_speech_to_text(audio_file)  # Convert speech to text\n",
        "\n",
        "        word_count = count_words(converted_text)  # Count the words in the converted text\n",
        "\n",
        "        print(f\"File: {filename}\")\n",
        "        print(f\"Text: {converted_text}\")\n",
        "        print(f\"Word Count: {word_count}\\n\")\n"
      ]
    },
    {
      "cell_type": "markdown",
      "source": [
        "###<font color = 'green'> **🐹 👀 Compare each speaker's utterance with the reference text.**\n",
        "\n",
        "- 위에 나온 각 문장 발화를 아래 문장 번호를 찾아서 'copy & paste' 하세요."
      ],
      "metadata": {
        "id": "zwI3d0XUJdmI"
      }
    },
    {
      "cell_type": "code",
      "source": [
        "!pip install python-Levenshtein\n",
        "import Levenshtein\n",
        "\n",
        "def calculate_wer(reference, hypothesis):/speaker10_comma_rep1_1sthalf (1).wav\n",
        "    reference_words = reference.split()\n",
        "    hypothesis_words = hypothesis.split()\n",
        "\n",
        "    # Compute Levenshtein distance between the reference and hypothesis\n",
        "    distance = Levenshtein.distance(reference_words, hypothesis_words)\n",
        "\n",
        "    # Calculate Word Error Rate (WER)\n",
        "    wer = distance / len(reference_words)\n",
        "    return wer\n",
        "\n",
        "#Compare hypothesis with reference\n",
        "reference_text1 = \"well here's a story for you\"\n",
        "hypothesis_text1 = \"\"\n",
        "wer1 = calculate_wer(reference_text1, hypothesis_text1)\n",
        "print(f\"Word Error Rate (WER): {wer1}\")\n",
        "\n",
        "reference_text2 = \"sarah perry was a veterinary nurse who had been working daily at an old zoo in a deserted district of the territory so she was very happy to start a new job at a superb private practice in north square near the duke street tower\"\n",
        "hypothesis_text2 = \"\"\n",
        "wer2 = calculate_wer(reference_text2, hypothesis_text2)\n",
        "print(f\"Word Error Rate (WER): {wer2}\")\n",
        "\n",
        "reference_text3 = \"that area was much nearer for her and more to her liking\"\n",
        "hypothesis_text3 = \"\"\n",
        "wer3 = calculate_wer(reference_text3, hypothesis_text3)\n",
        "print(f\"Word Error Rate (WER): {wer3}\")\n",
        "\n",
        "reference_text4 = \"even so on her first morning she felt stressed\"\n",
        "hypothesis_text4 = \"\"\n",
        "wer4 = calculate_wer(reference_text4, hypothesis_text4)\n",
        "print(f\"Word Error Rate (WER): {wer4}\")\n",
        "\n",
        "reference_text5 = \"she ate a bowl of porridge checked herself in the mirror and washed her face in a hurry\"\n",
        "hypothesis_text5 = \"\"\n",
        "wer5 = calculate_wer(reference_text5, hypothesis_text5)\n",
        "print(f\"Word Error Rate (WER): {wer5}\")\n",
        "\n",
        "reference_text6 = \"then she put on a plain yellow dress and a fleece jacket picked up her kit and headed for work\"\n",
        "hypothesis_text6 = \"\"\n",
        "wer6 = calculate_wer(reference_text6, hypothesis_text6)\n",
        "print(f\"Word Error Rate (WER): {wer6}\")\n",
        "\n",
        "reference_text7 = \"when she got there there was a woman with a goose waiting for her\"\n",
        "hypothesis_text7 = \"\"\n",
        "wer7 = calculate_wer(reference_text7, hypothesis_text7)\n",
        "print(f\"Word Error Rate (WER): {wer7}\")\n",
        "\n",
        "reference_text8 = \"the woman gave Sarah an official letter from the vet\"\n",
        "hypothesis_text8 = \"\"\n",
        "wer8 = calculate_wer(reference_text8, hypothesis_text8)\n",
        "print(f\"Word Error Rate (WER): {wer8}\")\n",
        "\n",
        "reference_text9 = \"the letter implied that the animal could be suffering from a rare form of foot and mouth disease which was surprising because normally you would only expect to see it in a dog or a goat\"\n",
        "hypothesis_text9 = \"\"\n",
        "wer9 = calculate_wer(reference_text9, hypothesis_text9)\n",
        "print(f\"Word Error Rate (WER): {wer9}\")\n",
        "\n",
        "reference_text10 = \"sarah was sentimental so this made her feel sorry for the beautiful bird\"\n",
        "hypothesis_text10 = \"\"\n",
        "wer10 = calculate_wer(reference_text10, hypothesis_text10)\n",
        "print(f\"Word Error Rate (WER): {wer10}\")\n",
        "\n",
        "reference_text11 = \"before long that itchy goose began to strut around the office like a lunatic which made an unsanitary mess\"\n",
        "hypothesis_text11 = \"\"\n",
        "wer1 = calculate_wer(reference_text11, hypothesis_text11)\n",
        "print(f\"Word Error Rate (WER): {wer11}\")\n",
        "\n",
        "reference_text12 = \"the goose's owner mary harrison kept calling comma comma which Sarah thought was an odd choice for a name\"\n",
        "hypothesis_text12 = \"\"\n",
        "wer1 = calculate_wer(reference_text12, hypothesis_text12)\n",
        "print(f\"Word Error Rate (WER): {wer12}\")"
      ],
      "metadata": {
        "id": "dQt3o3-V0YRc",
        "collapsed": true,
        "outputId": "fefd9000-80bf-44d9-e4a9-2673050ea210",
        "colab": {
          "base_uri": "https://localhost:8080/",
          "height": 106
        }
      },
      "execution_count": 1,
      "outputs": [
        {
          "output_type": "error",
          "ename": "SyntaxError",
          "evalue": "invalid syntax (<ipython-input-1-16013f937c5f>, line 4)",
          "traceback": [
            "\u001b[0;36m  File \u001b[0;32m\"<ipython-input-1-16013f937c5f>\"\u001b[0;36m, line \u001b[0;32m4\u001b[0m\n\u001b[0;31m    def calculate_wer(reference, hypothesis):/speaker10_comma_rep1_1sthalf (1).wav\u001b[0m\n\u001b[0m                                             ^\u001b[0m\n\u001b[0;31mSyntaxError\u001b[0m\u001b[0;31m:\u001b[0m invalid syntax\n"
          ]
        }
      ]
    }
  ]
}